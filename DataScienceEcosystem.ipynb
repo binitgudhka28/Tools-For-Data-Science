{
 "cells": [
  {
   "cell_type": "markdown",
   "id": "f6e43886-b9ff-4e7b-91b1-d2b11981f827",
   "metadata": {
    "tags": []
   },
   "source": [
    "<h1>Data Science Tools and Ecosystem</h1>"
   ]
  },
  {
   "cell_type": "markdown",
   "id": "6bd84c28-686e-444f-8523-a8b9eecf2abb",
   "metadata": {},
   "source": [
    "In this notebook, Data Science Tools and Ecosystem are summarized.\n"
   ]
  },
  {
   "cell_type": "markdown",
   "id": "0e215ada-2d8c-4563-b203-764135252b15",
   "metadata": {
    "tags": []
   },
   "source": [
    "Some of the popular languages that Data Scientists use are:\n",
    "\n",
    "1. Python\n",
    "2. R\n",
    "3. SQL\n",
    "4. C++\n",
    "5. Java\n"
   ]
  },
  {
   "cell_type": "markdown",
   "id": "62bb812e-020e-468e-a90c-409203992250",
   "metadata": {},
   "source": [
    "Some of the commonly used libraries by Data Scientists include:\n",
    "\n",
    "1. TensorFlow\n",
    "2. NumPy\n",
    "3. SciPy\n",
    "4. Pandas\n",
    "5. Matplotlib\n"
   ]
  },
  {
   "cell_type": "markdown",
   "id": "4927d9c3-03a0-489c-b9ff-0f50d6a10562",
   "metadata": {
    "tags": []
   },
   "source": [
    "| Data Science Tools |\n",
    "| ---                |\n",
    "| SAS                |\n",
    "| Apache Hadoop      |\n",
    "| Tensorflow         |\n"
   ]
  },
  {
   "cell_type": "markdown",
   "id": "4e9f7c94-b11a-4c42-bc3c-35cc3152fefe",
   "metadata": {},
   "source": [
    "<h3>Below are a few examples of evaluating arithmetic expressions in Python</h3>"
   ]
  },
  {
   "cell_type": "code",
   "execution_count": 10,
   "id": "fd227782-f00d-47ca-8e27-da8ba936b944",
   "metadata": {
    "tags": []
   },
   "outputs": [],
   "source": [
    "#This a simple arithmetic expression to mutiply then add integers"
   ]
  },
  {
   "cell_type": "code",
   "execution_count": 11,
   "id": "c99d72ce-64f7-44bd-8140-ed11f16c8083",
   "metadata": {
    "tags": []
   },
   "outputs": [
    {
     "data": {
      "text/plain": [
       "20"
      ]
     },
     "execution_count": 11,
     "metadata": {},
     "output_type": "execute_result"
    }
   ],
   "source": [
    "(3*5)+5"
   ]
  },
  {
   "cell_type": "code",
   "execution_count": 13,
   "id": "365ddfca-fb77-4155-b801-a1cc5a6c8c34",
   "metadata": {
    "tags": []
   },
   "outputs": [
    {
     "data": {
      "text/plain": [
       "3.3333333333333335"
      ]
     },
     "execution_count": 13,
     "metadata": {},
     "output_type": "execute_result"
    }
   ],
   "source": [
    "#this will convert 200 minutes to hours by diving by 60\n",
    "200 / 60"
   ]
  },
  {
   "cell_type": "markdown",
   "id": "07b0be1e-cae2-4f5a-a473-aa5f02195d76",
   "metadata": {
    "tags": []
   },
   "source": [
    "__Objective__\n",
    "* List Popular langauges for datascience\n",
    "* List Popular Libraries for datascience\n",
    "* List of well known data scicence tools\n"
   ]
  },
  {
   "cell_type": "markdown",
   "id": "aa25b7d2-d429-4800-9c0d-147a790e2721",
   "metadata": {},
   "source": [
    "<h2>Author</h2>\n",
    "Binit Gudhka"
   ]
  }
 ],
 "metadata": {
  "kernelspec": {
   "display_name": "Python",
   "language": "python",
   "name": "conda-env-python-py"
  },
  "language_info": {
   "codemirror_mode": {
    "name": "ipython",
    "version": 3
   },
   "file_extension": ".py",
   "mimetype": "text/x-python",
   "name": "python",
   "nbconvert_exporter": "python",
   "pygments_lexer": "ipython3",
   "version": "3.7.12"
  }
 },
 "nbformat": 4,
 "nbformat_minor": 5
}
